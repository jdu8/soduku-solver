{
 "cells": [
  {
   "cell_type": "code",
   "execution_count": 1,
   "metadata": {},
   "outputs": [],
   "source": [
    "import tensorflow as tf\n",
    "from tensorflow import keras\n",
    "import numpy as np\n",
    "import matplotlib.pyplot as plt\n",
    "from random import randint"
   ]
  },
  {
   "cell_type": "code",
   "execution_count": 2,
   "metadata": {},
   "outputs": [],
   "source": [
    "mnist=keras.datasets.mnist\n",
    "(x_Train,y_Train), (x_Test, y_Test) = mnist.load_data()"
   ]
  },
  {
   "cell_type": "code",
   "execution_count": 3,
   "metadata": {},
   "outputs": [
    {
     "name": "stdout",
     "output_type": "stream",
     "text": [
      "INDEX: 39075\n",
      "LABEL: 0\n"
     ]
    },
    {
     "data": {
      "text/plain": [
       "<matplotlib.image.AxesImage at 0x220f8178d00>"
      ]
     },
     "execution_count": 3,
     "metadata": {},
     "output_type": "execute_result"
    },
    {
     "data": {
      "image/png": "[encoded data removed]",
      "text/plain": [
       "<Figure size 432x288 with 1 Axes>"
      ]
     },
     "metadata": {
      "needs_background": "light"
     },
     "output_type": "display_data"
    }
   ],
   "source": [
    "index=randint(0,len(x_Train)-1)\n",
    "print(f'INDEX: {index}')\n",
    "print(f'LABEL: {y_Train[index]}')\n",
    "plt.imshow(x_Train[index],cmap='gray')"
   ]
  },
  {
   "cell_type": "code",
   "execution_count": 4,
   "metadata": {},
   "outputs": [],
   "source": [
    "shape=x_Train.shape\n",
    "x_Train=x_Train.reshape(shape[0],shape[1],shape[2],1)\n",
    "shape=x_Test.shape\n",
    "x_Test=x_Test.reshape(shape[0],shape[1],shape[2],1)"
   ]
  },
  {
   "cell_type": "code",
   "execution_count": 5,
   "metadata": {},
   "outputs": [],
   "source": [
    "class myCallback(tf.keras.callbacks.Callback):\n",
    "    def on_epoch_end(self, epoch, logs={}):\n",
    "        if(logs.get('accuracy')>0.995):\n",
    "            print(\"\\nReached 99.5% accuracy so stopping training!\")\n",
    "            self.model.stop_training = True"
   ]
  },
  {
   "cell_type": "code",
   "execution_count": 6,
   "metadata": {},
   "outputs": [],
   "source": [
    "model = tf.keras.models.Sequential([ \n",
    "        tf.keras.layers.Conv2D(64, (3,3), activation='relu', input_shape=(28, 28, 1)),\n",
    "        tf.keras.layers.MaxPooling2D(2, 2),\n",
    "        tf.keras.layers.Conv2D(64, (3,3), activation='relu'),\n",
    "        tf.keras.layers.MaxPooling2D(2, 2),\n",
    "        tf.keras.layers.Flatten(),\n",
    "        tf.keras.layers.Dense(1024, activation='relu'),\n",
    "        tf.keras.layers.Dense(10, activation='softmax')\n",
    "    ]) \n",
    "# model = tf.keras.models.Sequential([tf.keras.layers.Flatten(), \n",
    "#                                     tf.keras.layers.Dense(1024, activation=tf.nn.relu), \n",
    "#                                     tf.keras.layers.Dense(10, activation=tf.nn.softmax)])"
   ]
  },
  {
   "cell_type": "code",
   "execution_count": 7,
   "metadata": {},
   "outputs": [],
   "source": [
    "model.compile(optimizer='adam', \n",
    "                  loss='sparse_categorical_crossentropy', \n",
    "                  metrics=['accuracy']) \n",
    "# model.summary()"
   ]
  },
  {
   "cell_type": "code",
   "execution_count": 8,
   "metadata": {},
   "outputs": [
    {
     "name": "stdout",
     "output_type": "stream",
     "text": [
      "Model: \"sequential\"\n",
      "_________________________________________________________________\n",
      " Layer (type)                Output Shape              Param #   \n",
      "=================================================================\n",
      " conv2d (Conv2D)             (None, 26, 26, 64)        640       \n",
      "                                                                 \n",
      " max_pooling2d (MaxPooling2D  (None, 13, 13, 64)       0         \n",
      " )                                                               \n",
      "                                                                 \n",
      " conv2d_1 (Conv2D)           (None, 11, 11, 64)        36928     \n",
      "                                                                 \n",
      " max_pooling2d_1 (MaxPooling  (None, 5, 5, 64)         0         \n",
      " 2D)                                                             \n",
      "                                                                 \n",
      " flatten (Flatten)           (None, 1600)              0         \n",
      "                                                                 \n",
      " dense (Dense)               (None, 1024)              1639424   \n",
      "                                                                 \n",
      " dense_1 (Dense)             (None, 10)                10250     \n",
      "                                                                 \n",
      "=================================================================\n",
      "Total params: 1,687,242\n",
      "Trainable params: 1,687,242\n",
      "Non-trainable params: 0\n",
      "_________________________________________________________________\n"
     ]
    }
   ],
   "source": [
    "model.summary()"
   ]
  },
  {
   "cell_type": "code",
   "execution_count": 9,
   "metadata": {},
   "outputs": [
    {
     "name": "stdout",
     "output_type": "stream",
     "text": [
      "Epoch 1/8\n",
      "1688/1688 [==============================] - 21s 6ms/step - loss: 0.1082 - accuracy: 0.9666 - val_loss: 0.0409 - val_accuracy: 0.9898\n",
      "Epoch 2/8\n",
      "1688/1688 [==============================] - 9s 5ms/step - loss: 0.0362 - accuracy: 0.9886 - val_loss: 0.0329 - val_accuracy: 0.9902\n",
      "Epoch 3/8\n",
      "1688/1688 [==============================] - 9s 5ms/step - loss: 0.0237 - accuracy: 0.9926 - val_loss: 0.0326 - val_accuracy: 0.9910\n",
      "Epoch 4/8\n",
      "1688/1688 [==============================] - 9s 5ms/step - loss: 0.0195 - accuracy: 0.9937 - val_loss: 0.0365 - val_accuracy: 0.9915\n",
      "Epoch 5/8\n",
      "1688/1688 [==============================] - 9s 5ms/step - loss: 0.0138 - accuracy: 0.9952 - val_loss: 0.0332 - val_accuracy: 0.9920\n",
      "Epoch 6/8\n",
      "1688/1688 [==============================] - 9s 5ms/step - loss: 0.0096 - accuracy: 0.9967 - val_loss: 0.0522 - val_accuracy: 0.9907\n",
      "Epoch 7/8\n",
      "1688/1688 [==============================] - 9s 5ms/step - loss: 0.0090 - accuracy: 0.9970 - val_loss: 0.0441 - val_accuracy: 0.9932\n",
      "Epoch 8/8\n",
      "1688/1688 [==============================] - 9s 5ms/step - loss: 0.0078 - accuracy: 0.9977 - val_loss: 0.0487 - val_accuracy: 0.9912\n"
     ]
    },
    {
     "data": {
      "text/plain": [
       "<keras.callbacks.History at 0x2208f775f40>"
      ]
     },
     "execution_count": 9,
     "metadata": {},
     "output_type": "execute_result"
    }
   ],
   "source": [
    "model.fit(x_Train/255,y_Train,validation_split=0.1, epochs=8) #callbacks=[myCallback()])"
   ]
  },
  {
   "cell_type": "code",
   "execution_count": 10,
   "metadata": {},
   "outputs": [
    {
     "name": "stdout",
     "output_type": "stream",
     "text": [
      "313/313 [==============================] - 1s 3ms/step - loss: 0.0482 - accuracy: 0.9886\n"
     ]
    },
    {
     "data": {
      "text/plain": [
       "[0.048219285905361176, 0.9886000156402588]"
      ]
     },
     "execution_count": 10,
     "metadata": {},
     "output_type": "execute_result"
    }
   ],
   "source": [
    "model.evaluate(x_Test/255,y_Test)"
   ]
  },
  {
   "cell_type": "code",
   "execution_count": 11,
   "metadata": {},
   "outputs": [
    {
     "name": "stdout",
     "output_type": "stream",
     "text": [
      "INFO:tensorflow:Assets written to: models\\mnist\\assets\n"
     ]
    }
   ],
   "source": [
    "model.save(\"models\\\\mnist\")"
   ]
  },
  {
   "cell_type": "code",
   "execution_count": null,
   "metadata": {},
   "outputs": [],
   "source": []
  },
  {
   "cell_type": "code",
   "execution_count": 12,
   "metadata": {},
   "outputs": [
    {
     "name": "stdout",
     "output_type": "stream",
     "text": [
      "28\n",
      "(10000, 28, 28, 1)\n",
      "\n"
     ]
    }
   ],
   "source": [
    "import cv2\n",
    "# img=cv2.imread('images\\\\cell04.png')\n",
    "# img=cv2.resize(img,(28,28),interpolation= cv2.INTER_LINEAR)\n",
    "# plt.imshow(x_Test[0],cmap='gray')\n",
    "print(len(x_Test[0][0]))\n",
    "print(x_Test.shape)\n",
    "# for i in range(len(x_Test[0])):\n",
    "#     for j in range(len(x_Test[0][i])):\n",
    "#         print(x_Test[0][i][j]/255,end=\" \")\n",
    "#     print()\n",
    "print()\n",
    "# img.shape\n",
    "# img=img.reshape(28,28,1)\n",
    "# model.predict(img)"
   ]
  }
 ],
 "metadata": {
  "interpreter": {
   "hash": "17bcabc9de6867f650291ddf9f67f930e269a6f4f72f507f33f3d07b1d0aff20"
  },
  "kernelspec": {
   "display_name": "Python 3.8.7 64-bit",
   "language": "python",
   "name": "python3"
  },
  "language_info": {
   "codemirror_mode": {
    "name": "ipython",
    "version": 3
   },
   "file_extension": ".py",
   "mimetype": "text/x-python",
   "name": "python",
   "nbconvert_exporter": "python",
   "pygments_lexer": "ipython3",
   "version": "3.8.7"
  },
  "orig_nbformat": 4
 },
 "nbformat": 4,
 "nbformat_minor": 2
}
